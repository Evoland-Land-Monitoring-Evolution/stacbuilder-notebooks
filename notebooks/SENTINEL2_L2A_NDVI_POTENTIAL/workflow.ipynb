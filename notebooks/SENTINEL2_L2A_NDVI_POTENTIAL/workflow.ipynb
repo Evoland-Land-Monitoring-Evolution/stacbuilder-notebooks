{
 "cells": [
  {
   "cell_type": "code",
   "execution_count": null,
   "metadata": {},
   "outputs": [],
   "source": [
    "from pathlib import Path\n",
    "import pprint\n",
    "from stacbuilder import *\n",
    "from stacbuilder.stacapi.endpoints import CollectionsEndpoint\n",
    "from stacbuilder.stacapi.auth import get_auth\n",
    "from stacbuilder.stacapi.config import AuthSettings\n",
    "import json\n",
    "import requests\n",
    "from dotenv import load_dotenv\n",
    "import os"
   ]
  },
  {
   "cell_type": "code",
   "execution_count": null,
   "metadata": {},
   "outputs": [],
   "source": [
    "# Collection configuration\n",
    "catalog_version = \"v0.5\"\n",
    "collection_config_path = Path(\"config-collection.json\")\n",
    "\n",
    "# Input Paths\n",
    "tiff_input_path = Path(\"data\")\n",
    "tiffs_glob = \"*.tif\"\n",
    "\n",
    "# Output Paths\n",
    "output_path = Path(\"results\")\n",
    "test_output_path = output_path / \"test\" / catalog_version\n",
    "publish_output_path = output_path / \"publish\" / catalog_version\n",
    "\n",
    "# Openeo backend\n",
    "openeo_backend_url = \"https://openeo-dev.vito.be\""
   ]
  },
  {
   "cell_type": "code",
   "execution_count": null,
   "metadata": {},
   "outputs": [],
   "source": [
    "# list input files\n",
    "input_files = list_input_files(\n",
    "    glob=tiffs_glob, input_dir=tiff_input_path, max_files=None\n",
    ")\n",
    "print(f\"Path {tiff_input_path}\")\n",
    "print(f\"Found {len(input_files)} input files. 5 first files:\")\n",
    "for i in input_files[:5]:\n",
    "    print(i)"
   ]
  },
  {
   "cell_type": "code",
   "execution_count": null,
   "metadata": {},
   "outputs": [],
   "source": [
    "# list meta data\n",
    "asset_metadata = list_asset_metadata(\n",
    "    collection_config_path=collection_config_path,\n",
    "    glob=tiffs_glob,\n",
    "    input_dir=tiff_input_path,\n",
    "    max_files=1,\n",
    ")\n",
    "for k in asset_metadata:\n",
    "    pprint.pprint(k.to_dict())"
   ]
  },
  {
   "cell_type": "code",
   "execution_count": null,
   "metadata": {},
   "outputs": [],
   "source": [
    "# list items\n",
    "stac_items, failed_files = list_stac_items(\n",
    "    collection_config_path=collection_config_path,\n",
    "    glob=tiffs_glob,\n",
    "    input_dir=tiff_input_path,\n",
    "    max_files=1,\n",
    ")\n",
    "print(f\"Found {len(stac_items)} STAC items\")\n",
    "if failed_files:\n",
    "    print(f\"Failed files: {failed_files}\")\n",
    "if len(stac_items) > 0:\n",
    "    print(\"First stac item:\")\n",
    "    stac_items[0]"
   ]
  },
  {
   "cell_type": "code",
   "execution_count": null,
   "metadata": {},
   "outputs": [],
   "source": [
    "# build grouped collection\n",
    "build_grouped_collections(\n",
    "    collection_config_path=collection_config_path,\n",
    "    glob=tiffs_glob,\n",
    "    input_dir=tiff_input_path,\n",
    "    output_dir=test_output_path,\n",
    "    overwrite=True,\n",
    ")"
   ]
  },
  {
   "cell_type": "code",
   "execution_count": null,
   "metadata": {},
   "outputs": [],
   "source": [
    "# validate collection\n",
    "validate_collection(\n",
    "    collection_file=test_output_path / \"collection.json\",\n",
    ")"
   ]
  },
  {
   "cell_type": "code",
   "execution_count": null,
   "metadata": {},
   "outputs": [],
   "source": [
    "# show collection\n",
    "new_collection = load_collection(collection_file=test_output_path / \"collection.json\")"
   ]
  },
  {
   "cell_type": "code",
   "execution_count": null,
   "metadata": {},
   "outputs": [],
   "source": [
    "load_dotenv()\n",
    "password = os.getenv(\"TERRASCOPE_PASSWORD\")\n",
    "username = os.getenv(\"TERRASCOPE_USERNAME\")\n",
    "\n",
    "auth_settings = AuthSettings(\n",
    "    token_url=\"https://sso.vgt.vito.be/auth/realms/terrascope/protocol/openid-connect/token\",\n",
    "    client_id=\"public\",\n",
    "    username=username,\n",
    "    password=password,\n",
    ")\n",
    "auth_base = get_auth(auth_settings)\n",
    "collections_api = CollectionsEndpoint.create_endpoint(\n",
    "    \"https://stac.openeo.vito.be/\",\n",
    "    auth=auth_base,\n",
    "    collection_auth_info={\n",
    "        \"_auth\": {\n",
    "            \"read\": [\"anonymous\"],\n",
    "            \"write\": [\"stac-openeo-admin\", \"stac-openeo-editor\"],\n",
    "        }\n",
    "    },\n",
    ")\n",
    "collections_api.create(new_collection)\n",
    "uploaded_collection = collections_api.get(new_collection.id)\n",
    "print(uploaded_collection)"
   ]
  },
  {
   "cell_type": "markdown",
   "metadata": {},
   "source": [
    "## Legacy\n",
    "\n",
    "better to use grouped collections\n"
   ]
  },
  {
   "cell_type": "code",
   "execution_count": null,
   "metadata": {},
   "outputs": [],
   "source": [
    "# build collection\n",
    "build_collection(\n",
    "    collection_config_path=collection_config_path,\n",
    "    glob=tiffs_glob,\n",
    "    input_dir=tiff_input_path,\n",
    "    output_dir=test_output_path,\n",
    "    overwrite=overwrite,\n",
    ")"
   ]
  }
 ],
 "metadata": {
  "kernelspec": {
   "display_name": "stac-catalog-builder",
   "language": "python",
   "name": "python3"
  },
  "language_info": {
   "codemirror_mode": {
    "name": "ipython",
    "version": 3
   },
   "file_extension": ".py",
   "mimetype": "text/x-python",
   "name": "python",
   "nbconvert_exporter": "python",
   "pygments_lexer": "ipython3",
   "version": "3.11.8"
  }
 },
 "nbformat": 4,
 "nbformat_minor": 2
}
